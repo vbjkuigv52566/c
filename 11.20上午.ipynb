{
 "cells": [
  {
   "cell_type": "code",
   "execution_count": 29,
   "id": "e66e9679-991a-40e3-9c4e-966f279a9c73",
   "metadata": {},
   "outputs": [],
   "source": [
    "import torch\n",
    "def sin(x):\n",
    "    return torch.sin(x)"
   ]
  },
  {
   "cell_type": "code",
   "execution_count": 30,
   "id": "b4a45f75-e1a2-4fcb-bebb-26f5c249baf0",
   "metadata": {},
   "outputs": [],
   "source": [
    "x1 = torch.tensor(2.0,requires_grad=True)\n",
    "x2 = torch.tensor(5.0,requires_grad=True)"
   ]
  },
  {
   "cell_type": "code",
   "execution_count": 31,
   "id": "cdfe48b5-90d5-4860-b91c-d4552921fdc5",
   "metadata": {},
   "outputs": [],
   "source": [
    "v_minus_1=x1\n",
    "v0 = x2\n",
    "v1 = torch.log(v_minus_1)\n",
    "v2 = v_minus_1*v0\n",
    "v3 = sin(v0)\n",
    "v4 = v1 + v2 \n",
    "v5 = v4 - v3"
   ]
  },
  {
   "cell_type": "code",
   "execution_count": 32,
   "id": "d7d3bdb1-3a1d-4e63-aa66-7ce01a9dc2a2",
   "metadata": {},
   "outputs": [
    {
     "name": "stdout",
     "output_type": "stream",
     "text": [
      "节点v_minus_1对x1的导数 tensor(1.)\n",
      "节点v_minus_1对x2的导数 None\n",
      "节点v0对x1的导数 tensor(0.)\n",
      "节点v0对x2的导数 tensor(1.)\n",
      "节点v1对x1的导数 tensor(0.5000)\n",
      "节点v1对x2的导数 tensor(0.)\n",
      "节点v2对x1的导数 tensor(5.)\n",
      "节点v2对x2的导数 tensor(2.)\n",
      "节点v3对x1的导数 tensor(0.)\n",
      "节点v3对x2的导数 tensor(0.2837)\n",
      "节点v4对x1的导数 tensor(5.5000)\n",
      "节点v4对x2的导数 tensor(2.)\n",
      "节点v5对x1的导数 tensor(5.5000)\n",
      "节点v5对x2的导数 tensor(1.7163)\n"
     ]
    }
   ],
   "source": [
    "node_dict= {\"v_minus_1\": v_minus_1,\"v0\": v0,\"v1\": v1,\"v2\":v2,\"v3\":v3,\"v4\": v4,\"v5\": v5}\n",
    "var_dict = {\"x1\":x1,\"x2\":x2} \n",
    "for k in node_dict:\n",
    "    for var_name in var_dict:\n",
    "        if var_dict[var_name] .grad is not None:\n",
    "            var_dict[var_name].grad.zero_()\n",
    "        node_dict[k].backward(retain_graph=True)\n",
    "        print(f\"节点{k}对{var_name}的导数\",var_dict[var_name].grad)"
   ]
  },
  {
   "cell_type": "code",
   "execution_count": 38,
   "id": "6e111d99-bb77-4c50-93f1-8c69beef4bd0",
   "metadata": {},
   "outputs": [],
   "source": [
    "import torch\n",
    "tensor = torch.tensor([1, 2, 3])"
   ]
  },
  {
   "cell_type": "code",
   "execution_count": 39,
   "id": "fd16fd5f-07b9-4ad2-820c-515e8244fd85",
   "metadata": {},
   "outputs": [],
   "source": [
    "def sigmoid(x):\n",
    "    return 1/(1+torch.exp(-x))"
   ]
  },
  {
   "cell_type": "code",
   "execution_count": 40,
   "id": "de821c90-c901-41d6-89e2-094e3be44a47",
   "metadata": {},
   "outputs": [],
   "source": [
    "x = torch.tensor(0.0,requires_grad=True)"
   ]
  },
  {
   "cell_type": "code",
   "execution_count": 41,
   "id": "986d0b48-401b-4235-b006-8af97dc49e96",
   "metadata": {},
   "outputs": [],
   "source": [
    "y = sigmoid(x)"
   ]
  },
  {
   "cell_type": "code",
   "execution_count": 42,
   "id": "f115d0c0-3151-4058-8727-4797188cee00",
   "metadata": {},
   "outputs": [],
   "source": [
    "y.backward()"
   ]
  },
  {
   "cell_type": "code",
   "execution_count": 46,
   "id": "a4cd90fa-5076-4077-831e-ddf788731677",
   "metadata": {},
   "outputs": [
    {
     "name": "stdout",
     "output_type": "stream",
     "text": [
      "dy/dx at x=0, c=1: 0.0\n",
      "dy/dc at x=0, c=1: 0.0028848371002823114\n"
     ]
    }
   ],
   "source": [
    "import torch\n",
    "\n",
    "# 定义输入变量，并设置为需要梯度\n",
    "x = torch.tensor(0.0, requires_grad=True)  # X1 对应 x\n",
    "c = torch.tensor(1.0, requires_grad=True)  # X2 对应 c\n",
    "\n",
    "# 构建计算图\n",
    "sigmoid = torch.sigmoid\n",
    "inner1 = sigmoid(c**2 + 2*c + 1)\n",
    "inner2 = sigmoid(x**2 + 2*c**2 + 1)\n",
    "y = sigmoid(3 * inner1 + inner2 + 1)\n",
    "\n",
    "# 计算梯度\n",
    "y.backward()\n",
    "\n",
    "# 输出梯度\n",
    "print(f\"dy/dx at x=0, c=1: {x.grad.item()}\")  # 输出 x 的梯度\n",
    "print(f\"dy/dc at x=0, c=1: {c.grad.item()}\")  # 输出 c 的梯度"
   ]
  },
  {
   "cell_type": "code",
   "execution_count": null,
   "id": "372ed97f-9f4a-40e1-bd45-ab6cd67c4b78",
   "metadata": {},
   "outputs": [],
   "source": []
  }
 ],
 "metadata": {
  "kernelspec": {
   "display_name": "Python 3 (ipykernel)",
   "language": "python",
   "name": "python3"
  },
  "language_info": {
   "codemirror_mode": {
    "name": "ipython",
    "version": 3
   },
   "file_extension": ".py",
   "mimetype": "text/x-python",
   "name": "python",
   "nbconvert_exporter": "python",
   "pygments_lexer": "ipython3",
   "version": "3.9.7"
  }
 },
 "nbformat": 4,
 "nbformat_minor": 5
}
