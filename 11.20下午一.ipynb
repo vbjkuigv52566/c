{
 "cells": [
  {
   "cell_type": "code",
   "execution_count": 3,
   "id": "19125519-a62a-460a-9fc7-0771d7256101",
   "metadata": {},
   "outputs": [],
   "source": [
    "from sklearn.datasets import load_breast_cancer\n",
    "from sklearn.model_selection import train_test_split\n",
    "from sklearn.linear_model import LogisticRegression\n",
    "from sklearn.metrics import classification_report,accuracy_score"
   ]
  },
  {
   "cell_type": "code",
   "execution_count": 5,
   "id": "cc28ebaa-01ba-4166-b0fe-5e147a4934d1",
   "metadata": {},
   "outputs": [],
   "source": [
    "#加载sklearn自带的乳腺癌(分类)数据集\n",
    "X,y=load_breast_cancer(return_X_y=True)\n",
    "#探索数据集大小和列情况"
   ]
  },
  {
   "cell_type": "code",
   "execution_count": 6,
   "id": "7c1922d0-5a47-4304-8eb3-a8dc5fd48f2b",
   "metadata": {},
   "outputs": [],
   "source": [
    "#以指定比例将数据集分为训练集和测试集\n",
    "X_train,x_test,y_train,y_test = train_test_split(\n",
    "    X,y,\n",
    "    train_size=0.875,test_size=0.125,random_state=188\n",
    ")"
   ]
  },
  {
   "cell_type": "code",
   "execution_count": 7,
   "id": "0ac058e9-12e6-492c-bb87-d74cab60932f",
   "metadata": {},
   "outputs": [
    {
     "data": {
      "text/plain": [
       "LogisticRegression(max_iter=3000, multi_class='ovr')"
      ]
     },
     "execution_count": 7,
     "metadata": {},
     "output_type": "execute_result"
    }
   ],
   "source": [
    "#使用Lr类，初始化模型\n",
    "clf = LogisticRegression(\n",
    "    penalty=\"l2\",C=1.0,random_state=None,solver=\"lbfgs\",max_iter=3000,\n",
    "    multi_class='ovr',verbose=0,\n",
    ") \n",
    "#使用训练数据来学习(报合)\n",
    "clf.fit(X_train,y_train)"
   ]
  },
  {
   "cell_type": "code",
   "execution_count": 9,
   "id": "6b867bb5-bf17-4576-8158-9b87406f2936",
   "metadata": {},
   "outputs": [],
   "source": [
    "#使用测试数据来预测，返回值质测分类数据\n",
    "y_pred = clf.predict(x_test)"
   ]
  },
  {
   "cell_type": "code",
   "execution_count": 11,
   "id": "83ddc553-7b36-4565-b6a8-d9a7776f2dec",
   "metadata": {},
   "outputs": [
    {
     "name": "stdout",
     "output_type": "stream",
     "text": [
      "---report---\n",
      "              precision    recall  f1-score   support\n",
      "\n",
      "           0       0.96      0.96      0.96        27\n",
      "           1       0.98      0.98      0.98        45\n",
      "\n",
      "    accuracy                           0.97        72\n",
      "   macro avg       0.97      0.97      0.97        72\n",
      "weighted avg       0.97      0.97      0.97        72\n",
      "\n",
      "--- params ---\n",
      "[[ 0.89960769  0.17888852 -0.30396602  0.02572356 -0.17667936 -0.19319243\n",
      "  -0.56543832 -0.30645813 -0.25374937 -0.02428212 -0.07407326  1.09546992\n",
      "   0.11108786 -0.10663238 -0.02759738  0.0854027  -0.03498365 -0.0387471\n",
      "  -0.03079349  0.01957814  0.26004763 -0.45621821 -0.07916768 -0.01658918\n",
      "  -0.36072651 -0.6348124  -1.54604075 -0.6192092  -0.72734147 -0.06821056]] [28.59968311]\n",
      "--- accuracy ---\n",
      "0.9722222222222222\n"
     ]
    }
   ],
   "source": [
    "#打印主要分卖指标的文本报告\n",
    "print('---report---')\n",
    "print(classification_report(y_test,y_pred))\n",
    "\n",
    "#打印模型的参数\n",
    "print('--- params ---')\n",
    "print(clf.coef_,clf.intercept_)\n",
    "\n",
    "#打印准确率\n",
    "print('--- accuracy ---')\n",
    "print(accuracy_score(y_test,y_pred))"
   ]
  },
  {
   "cell_type": "code",
   "execution_count": null,
   "id": "9d331ba0-134d-4743-9ce1-dc4a439b73ad",
   "metadata": {},
   "outputs": [],
   "source": []
  }
 ],
 "metadata": {
  "kernelspec": {
   "display_name": "Python 3 (ipykernel)",
   "language": "python",
   "name": "python3"
  },
  "language_info": {
   "codemirror_mode": {
    "name": "ipython",
    "version": 3
   },
   "file_extension": ".py",
   "mimetype": "text/x-python",
   "name": "python",
   "nbconvert_exporter": "python",
   "pygments_lexer": "ipython3",
   "version": "3.9.7"
  }
 },
 "nbformat": 4,
 "nbformat_minor": 5
}
