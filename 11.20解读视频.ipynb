{
 "cells": [
  {
   "cell_type": "code",
   "execution_count": 1,
   "id": "f669ff68-c647-440d-86c4-00708cd71a76",
   "metadata": {},
   "outputs": [
    {
     "name": "stdout",
     "output_type": "stream",
     "text": [
      "Requirement already satisfied: zhipuai in c:\\programdata\\anaconda3\\lib\\site-packages (2.1.5.20230904)\n",
      "Requirement already satisfied: pyjwt<2.9.0,>=2.8.0 in c:\\programdata\\anaconda3\\lib\\site-packages (from zhipuai) (2.8.0)\n",
      "Requirement already satisfied: cachetools>=4.2.2 in c:\\programdata\\anaconda3\\lib\\site-packages (from zhipuai) (5.5.0)\n",
      "Requirement already satisfied: pydantic-core>=2.14.6 in c:\\programdata\\anaconda3\\lib\\site-packages (from zhipuai) (2.23.4)\n",
      "Requirement already satisfied: pydantic<3.0,>=1.9.0 in c:\\programdata\\anaconda3\\lib\\site-packages (from zhipuai) (2.9.2)\n",
      "Requirement already satisfied: httpx>=0.23.0 in c:\\programdata\\anaconda3\\lib\\site-packages (from zhipuai) (0.27.2)\n",
      "Requirement already satisfied: anyio in c:\\programdata\\anaconda3\\lib\\site-packages (from httpx>=0.23.0->zhipuai) (2.2.0)\n",
      "Requirement already satisfied: httpcore==1.* in c:\\programdata\\anaconda3\\lib\\site-packages (from httpx>=0.23.0->zhipuai) (1.0.7)\n",
      "Requirement already satisfied: sniffio in c:\\programdata\\anaconda3\\lib\\site-packages (from httpx>=0.23.0->zhipuai) (1.2.0)\n",
      "Requirement already satisfied: certifi in c:\\programdata\\anaconda3\\lib\\site-packages (from httpx>=0.23.0->zhipuai) (2021.10.8)\n",
      "Requirement already satisfied: idna in c:\\programdata\\anaconda3\\lib\\site-packages (from httpx>=0.23.0->zhipuai) (3.2)\n",
      "Requirement already satisfied: h11<0.15,>=0.13 in c:\\programdata\\anaconda3\\lib\\site-packages (from httpcore==1.*->httpx>=0.23.0->zhipuai) (0.14.0)\n",
      "Requirement already satisfied: typing-extensions>=4.6.1 in c:\\programdata\\anaconda3\\lib\\site-packages (from pydantic<3.0,>=1.9.0->zhipuai) (4.12.2)\n",
      "Requirement already satisfied: annotated-types>=0.6.0 in c:\\programdata\\anaconda3\\lib\\site-packages (from pydantic<3.0,>=1.9.0->zhipuai) (0.7.0)\n",
      "Note: you may need to restart the kernel to use updated packages.\n"
     ]
    }
   ],
   "source": [
    "pip install zhipuai"
   ]
  },
  {
   "cell_type": "code",
   "execution_count": 5,
   "id": "2a7200c7-04a5-4fcf-b11d-435cd0d62ba6",
   "metadata": {},
   "outputs": [],
   "source": [
    "import os\n",
    "from zhipuai import ZhipuAI\n",
    "import base64\n",
    "\n",
    "os.environ[\"ZHIPUAI_API_KEY\"] = \"cd266323542b4fc527bd6474c9b0122d.fMoQ8HipdIdvDWDD\"\n",
    "\n",
    "client = ZhipuAI()"
   ]
  },
  {
   "cell_type": "code",
   "execution_count": 11,
   "id": "c3993a7e-5429-43f3-ba96-2b5078ad1494",
   "metadata": {},
   "outputs": [
    {
     "name": "stdout",
     "output_type": "stream",
     "text": [
      "通常来说，视频理解的响应时间较长，需要等待十秒......\n",
      "CompletionMessage(content='这位女生在舞台上展现出了她独特的魅力和才华。她穿着一件白色的上衣和牛仔裤,一头红色的长发披散在肩上,手持麦克风,深情地演唱着歌曲。\\n\\n她的歌声充满了感染力,让人不自觉地沉浸在其中。她用她那高亢的嗓音和激情四溢的表现,将观众的情绪带到了高潮。\\n\\n在她的演唱中,我们听到了她对音乐的热爱和对生活的感悟。她的歌词充满了力量和启示,让人们不禁为之动容。\\n\\n这是一场充满活力和激情的演出,展现了这位女生的音乐才华和舞台魅力。她的表演不仅让观众们享受了一场视听盛宴,更让他们感受到了音乐的力量和美好。', role='assistant', tool_calls=None)\n"
     ]
    }
   ],
   "source": [
    "video_path = \"cy.mp4\"#设置视频文件的路径\n",
    "with open(video_path,'rb') as video_file:#一“以二进制读”模式打开视频\n",
    "    video_base = base64.b64encode(video_file.read()).decode('utf-8')#把视频文件编码成智谱支持的video_base64字符串，再解码成utf-8的字符串\n",
    "    \n",
    "print(\"通常来说，视频理解的响应时间较长，需要等待十秒......\")\n",
    "\n",
    "response = client.chat.completions.create(\n",
    "    model=\"glm-4v-plus\",\n",
    "    temperature=0.0,\n",
    "    top_p=0,\n",
    "    \n",
    "    messages=[{\n",
    "        \"role\":\"user\",\n",
    "        \"content\":[{\n",
    "            \"type\":\"video_url\",\n",
    "            \"video_url\":{\"url\": video_base}\n",
    "        },{\n",
    "            \"type\":\"text\",\n",
    "            \"text\":\"描述视频中女生的表现以及唱的歌曲，写一段文案\"\n",
    "        }]\n",
    "    }]\n",
    ")\n",
    "\n",
    "print(response.choices[0].message)"
   ]
  },
  {
   "cell_type": "code",
   "execution_count": null,
   "id": "849e0369-d256-480c-b8d5-6fd75349a21d",
   "metadata": {},
   "outputs": [],
   "source": []
  },
  {
   "cell_type": "code",
   "execution_count": null,
   "id": "d33beec5-d45c-4ab4-9bb4-79eb9751aaea",
   "metadata": {},
   "outputs": [],
   "source": []
  },
  {
   "cell_type": "code",
   "execution_count": null,
   "id": "1b704677-4362-4d2a-b544-93e0107850bc",
   "metadata": {},
   "outputs": [],
   "source": []
  },
  {
   "cell_type": "code",
   "execution_count": null,
   "id": "b0ebf21f-5de0-4a50-874a-54847d43cb01",
   "metadata": {},
   "outputs": [],
   "source": []
  },
  {
   "cell_type": "code",
   "execution_count": null,
   "id": "3a833254-eb12-4740-ba2c-81ec316d9a21",
   "metadata": {},
   "outputs": [],
   "source": []
  }
 ],
 "metadata": {
  "kernelspec": {
   "display_name": "Python 3 (ipykernel)",
   "language": "python",
   "name": "python3"
  },
  "language_info": {
   "codemirror_mode": {
    "name": "ipython",
    "version": 3
   },
   "file_extension": ".py",
   "mimetype": "text/x-python",
   "name": "python",
   "nbconvert_exporter": "python",
   "pygments_lexer": "ipython3",
   "version": "3.9.7"
  }
 },
 "nbformat": 4,
 "nbformat_minor": 5
}
