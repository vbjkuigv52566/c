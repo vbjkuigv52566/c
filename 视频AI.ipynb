{
 "cells": [
  {
   "cell_type": "code",
   "execution_count": 30,
   "id": "742a4f43-5422-4913-886c-a8ab5ae2bace",
   "metadata": {},
   "outputs": [
    {
     "name": "stdout",
     "output_type": "stream",
     "text": [
      "VideoObject(id='27221732094301950-9221302549318856749', model='cogvideox', video_result=None, task_status='PROCESSING', request_id='-9221302549318856750')\n"
     ]
    }
   ],
   "source": [
    "from zhipuai import ZhipuAI\n",
    "client = ZhipuAI(api_key=\"cd266323542b4fc527bd6474c9b0122d.fMoQ8HipdIdvDWDD\")\n",
    "\n",
    "response = client.videos.generations(\n",
    "    model=\"cogvideox\",\n",
    "    prompt=\"蔚蓝大海波光粼粼，轻柔的海浪拍打着金色沙滩，海鸥翱翔天际，夕阳洒下余晖，将海天染成绚烂的橙红色，美不胜收。\"\n",
    ")\n",
    "print(response)"
   ]
  },
  {
   "cell_type": "code",
   "execution_count": 31,
   "id": "1d263b7c-ab19-4245-a975-41cd279abe39",
   "metadata": {},
   "outputs": [
    {
     "name": "stdout",
     "output_type": "stream",
     "text": [
      "VideoObject(id='27221732094301950-9221302549318856749', model='cogvideox', video_result=None, task_status='PROCESSING', request_id='-9221302549318856750')\n"
     ]
    }
   ],
   "source": [
    "from zhipuai import ZhipuAI\n",
    "client = ZhipuAI(api_key=\"cd266323542b4fc527bd6474c9b0122d.fMoQ8HipdIdvDWDD\")\n",
    "\n",
    "response = client.videos.retrieve_videos_result(\n",
    "    id=\"27221732094301950-9221302549318856749\"\n",
    ")\n",
    "print(response)"
   ]
  },
  {
   "cell_type": "code",
   "execution_count": null,
   "id": "72b042cb-7523-4936-9ae9-e3caeca7187f",
   "metadata": {},
   "outputs": [],
   "source": []
  },
  {
   "cell_type": "code",
   "execution_count": null,
   "id": "1ea7caad-7ba6-4288-bba3-9d994fe073f5",
   "metadata": {},
   "outputs": [],
   "source": []
  },
  {
   "cell_type": "code",
   "execution_count": null,
   "id": "480f9db4-cb5a-4263-bf6a-1f8f20e9cfbe",
   "metadata": {},
   "outputs": [],
   "source": []
  },
  {
   "cell_type": "code",
   "execution_count": null,
   "id": "519a6164-8eae-4600-9af7-d21b22bdcd14",
   "metadata": {},
   "outputs": [],
   "source": []
  },
  {
   "cell_type": "code",
   "execution_count": null,
   "id": "9b24f759-e2b8-4d85-9e9b-299ba5e8012a",
   "metadata": {},
   "outputs": [],
   "source": []
  },
  {
   "cell_type": "code",
   "execution_count": null,
   "id": "9cfccbba-dc77-441d-b564-5fc53c31d6aa",
   "metadata": {},
   "outputs": [],
   "source": []
  }
 ],
 "metadata": {
  "kernelspec": {
   "display_name": "Python 3 (ipykernel)",
   "language": "python",
   "name": "python3"
  },
  "language_info": {
   "codemirror_mode": {
    "name": "ipython",
    "version": 3
   },
   "file_extension": ".py",
   "mimetype": "text/x-python",
   "name": "python",
   "nbconvert_exporter": "python",
   "pygments_lexer": "ipython3",
   "version": "3.9.7"
  }
 },
 "nbformat": 4,
 "nbformat_minor": 5
}
